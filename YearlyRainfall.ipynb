{
 "cells": [
  {
   "cell_type": "code",
   "execution_count": null,
   "metadata": {},
   "outputs": [],
   "source": [
    "import pandas as pd\n",
    "import glob\n",
    "from matplotlib import pyplot as plt\n",
    "import numpy as np"
   ]
  },
  {
   "cell_type": "code",
   "execution_count": null,
   "metadata": {},
   "outputs": [],
   "source": [
    "def aggregate_raw_csv ( ):\n",
    "    ARG1 = glob.glob ( \"ARG_1/ARG_1/*.csv\" ) #get a list of all .csv files in the folder\n",
    "    ARG2 = glob.glob ( \"ARG_2/ARG_2/*.csv\" )\n",
    "    AWS = glob.glob ( \"AWS/AWS/*.csv\" )\n",
    "    _csvfiles = ARG1 + ARG2 + AWS #combine all .csv files for rainfall only\n",
    "    print ( len ( _csvfiles ) ) #show number of .csv files\n",
    "    return ( _csvfiles )"
   ]
  },
  {
   "cell_type": "code",
   "execution_count": null,
   "metadata": {},
   "outputs": [],
   "source": [
    "def rainfall_readings ( _path ):\n",
    "    _station_rainfall = pd.read_csv ( _path, skiprows = 6, names = [ 'Date', 'Time', 'Rainfall(mm)' ], sep = ';|\\t| ', header = None, engine = 'python' )\n",
    "    return ( _station_rainfall )"
   ]
  },
  {
   "cell_type": "code",
   "execution_count": null,
   "metadata": {},
   "outputs": [],
   "source": [
    "def yearly_rainfall ( _year, _show_prog = False ):\n",
    "    _year = str ( int ( _year ) )\n",
    "    _rainfall = [ ]\n",
    "    i = 0\n",
    "    csv_files = pd.read_csv ( 'FilePathDictionary.csv', low_memory = False ).iloc [ :, 1 ]\n",
    "    for _path in csv_files:\n",
    "        _station_rainfall = rainfall_readings ( _path )\n",
    "        _station_rainfall = _station_rainfall [ _station_rainfall [ 'Date' ].str.contains ( _year ) ]\n",
    "        _station_rainfall [ 'Rainfall(mm)' ] = pd.to_numeric ( _station_rainfall [ 'Rainfall(mm)' ], errors = 'coerce' )\n",
    "        _station_rainfall.dropna ( inplace = True )\n",
    "        if ( len ( _station_rainfall [ 'Rainfall(mm)' ] ) > 0 ):\n",
    "            _station_rainfall.to_csv ( _year + '/' + str ( i ) + '.csv', index = False )\n",
    "            print ( str ( i ) + ' ' + _path, len ( _station_rainfall [ 'Rainfall(mm)' ] ) )\n",
    "        else:\n",
    "            print ( 'No rainfall reading for year ' + _year + ' for station ' + _path )\n",
    "        _rainfall += _station_rainfall [ 'Rainfall(mm)' ].tolist ( )\n",
    "        if ( _show_prog ):\n",
    "            print ( str ( i ) + ' ' + _path )\n",
    "            i += 1\n",
    "    rainfall_dataframe = pd.Series( _rainfall )\n",
    "    rainfall_dataframe = pd.to_numeric ( rainfall_dataframe, errors = 'coerce' )\n",
    "    rainfall_dataframe.dropna ( inplace = True )\n",
    "    return ( rainfall_dataframe )"
   ]
  },
  {
   "cell_type": "code",
   "execution_count": null,
   "metadata": {},
   "outputs": [],
   "source": [
    "def data_numeric ( _raw_rainfall ):\n",
    "    rainfall_dataframe = pd.Series( _raw_rainfall )\n",
    "    rainfall_dataframe = pd.to_numeric ( rainfall_dataframe, errors = 'coerce' )\n",
    "    rainfall_dataframe.dropna ( inplace = True )\n",
    "    return ( rainfall_dataframe )"
   ]
  },
  {
   "cell_type": "code",
   "execution_count": null,
   "metadata": {},
   "outputs": [],
   "source": [
    "years = [ 2010, 2011, 2012, 2013, 2014, 2015, 2016, 2017, 2018 ]"
   ]
  },
  {
   "cell_type": "code",
   "execution_count": null,
   "metadata": {},
   "outputs": [],
   "source": [
    "yearly_rainfall_list = [ ]\n",
    "for i in years:\n",
    "    yearly_rainfall_list.append ( yearly_rainfall ( str ( i ), _show_prog = False ) )"
   ]
  }
 ],
 "metadata": {
  "kernelspec": {
   "display_name": "Python 3",
   "language": "python",
   "name": "python3"
  },
  "language_info": {
   "codemirror_mode": {
    "name": "ipython",
    "version": 3
   },
   "file_extension": ".py",
   "mimetype": "text/x-python",
   "name": "python",
   "nbconvert_exporter": "python",
   "pygments_lexer": "ipython3",
   "version": "3.6.7"
  }
 },
 "nbformat": 4,
 "nbformat_minor": 2
}
