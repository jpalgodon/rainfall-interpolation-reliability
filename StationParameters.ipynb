{
 "cells": [
  {
   "cell_type": "code",
   "execution_count": null,
   "metadata": {},
   "outputs": [],
   "source": [
    "import os\n",
    "os.environ['PROJ_LIB'] = '/usr/local/anaconda3/share/proj'\n",
    "from mpl_toolkits.basemap import Basemap\n",
    "import matplotlib.pyplot as plt\n",
    "import pandas as pd\n",
    "import numpy as np\n",
    "from matplotlib import colors\n",
    "import glob\n",
    "import math\n",
    "from scipy.optimize import curve_fit"
   ]
  },
  {
   "cell_type": "code",
   "execution_count": null,
   "metadata": {},
   "outputs": [],
   "source": [
    "def yearly_rainfall ( _year ):\n",
    "    _csvfiles = glob.glob ( str ( int ( _year ) ) + \"/*.csv\" )\n",
    "    print ( len ( _csvfiles ) )\n",
    "    _cleaned = [ x for x in _csvfiles if \"ly\" not in x ]\n",
    "    print ( len ( _cleaned ) ) #show number of .csv files\n",
    "    return ( _cleaned )"
   ]
  },
  {
   "cell_type": "code",
   "execution_count": null,
   "metadata": {},
   "outputs": [],
   "source": [
    "def csv2index ( _csv ):\n",
    "    _index = [ int ( i [ 5 : -4 ] ) for i in _csv ]\n",
    "    return ( _index )"
   ]
  },
  {
   "cell_type": "code",
   "execution_count": null,
   "metadata": {},
   "outputs": [],
   "source": [
    "def remove_outliers ( _index, _outliers ):\n",
    "    _clean = [ i for i in _index if i not in _outliers ]\n",
    "    return ( _clean )"
   ]
  },
  {
   "cell_type": "code",
   "execution_count": null,
   "metadata": {},
   "outputs": [],
   "source": [
    "def station_loc ( _path ):\n",
    "    _station_data = pd.read_csv ( _path, sep = ';|\\t', header = None, engine = 'python' )\n",
    "    lat = float ( _station_data.iloc [ 1, 1 ] )\n",
    "    lon = float ( _station_data.iloc [ 2, 1 ] )\n",
    "    return ( lat, lon )"
   ]
  },
  {
   "cell_type": "code",
   "execution_count": null,
   "metadata": {},
   "outputs": [],
   "source": [
    "def yearly_mean ( _year, _index, _limit = 4064 ):\n",
    "    _rainfall = pd.read_csv ( str ( _year ) + '/' + str ( _index ) + '.csv' )\n",
    "    _clean = _rainfall [ _rainfall [ 'Rainfall(mm)' ] <= _limit ]\n",
    "    return ( _clean [ 'Rainfall(mm)' ].mean ( ) )"
   ]
  },
  {
   "cell_type": "code",
   "execution_count": null,
   "metadata": {},
   "outputs": [],
   "source": [
    "def yearly_reliability ( _year, _index, _limit = 4064, _hourlyexpected = 4 ):\n",
    "    _rainfall = pd.read_csv ( str ( _year ) + '/' + str ( _index ) + '.csv' )\n",
    "    _clean = _rainfall [ _rainfall [ 'Rainfall(mm)' ] <= _limit ]\n",
    "    _annualexpected = _hourlyexpected * 24 * 365\n",
    "    _reliability = len ( _clean ) / _annualexpected\n",
    "    if ( _reliability == 1.0 ):\n",
    "        print ( 'Perfect station: ', _index )\n",
    "    if ( _reliability > 1.0 ):\n",
    "        print ( _index )\n",
    "        _reliability = 1.0\n",
    "    return ( _reliability )"
   ]
  },
  {
   "cell_type": "code",
   "execution_count": null,
   "metadata": {},
   "outputs": [],
   "source": [
    "def distance ( _lat1, _lon1, _lat2, _lon2 ):\n",
    "    _R = 6377.083\n",
    "    \n",
    "    _dLat = math.radians ( _lat2 - _lat1 )\n",
    "    _dLon = math.radians ( _lon2 - _lon1 )\n",
    "    _lat1 = math.radians ( _lat1 )\n",
    "    _lat2 = math.radians ( _lat2 )\n",
    " \n",
    "    _a = math.sin ( _dLat / 2.0 ) ** 2.0 + math.cos ( _lat1 ) * math.cos ( _lat2 ) * math.sin ( _dLon / 2.0 ) ** 2.0\n",
    "    _c = 2 * math.asin ( math.sqrt ( _a ) )\n",
    " \n",
    "    return ( abs ( _R * _c ) )"
   ]
  },
  {
   "cell_type": "code",
   "execution_count": null,
   "metadata": {},
   "outputs": [],
   "source": [
    "def exponential_variogram ( h, c0, a0 ):\n",
    "    var = c0 * ( 1 - np.exp ( -h / a0 ) )\n",
    "    return ( var )"
   ]
  },
  {
   "cell_type": "code",
   "execution_count": null,
   "metadata": {},
   "outputs": [],
   "source": [
    "outliers2013 = [ 611, 486, 425, 563, 955 ]\n",
    "outliers2014 = [ 425, 908, 877, 884, 149 ]\n",
    "outliers2015 = [ 934, 809, 685, 400, 307, 884, 88 ]\n",
    "outliers2016 = [ 355, 291, 657, 884, 853, 630, 344, 254 ]\n",
    "outliers2017 = [ 608, 923, 166, 422, 73, 559, 52, 853, 917, 148, 827, 925 ]\n",
    "outliers2018 = [ 322, 166, 744, 904, 41, 200, 269, 115, 248, 62 ]"
   ]
  },
  {
   "cell_type": "code",
   "execution_count": null,
   "metadata": {},
   "outputs": [],
   "source": [
    "year = 2017\n",
    "stations = yearly_rainfall ( year )\n",
    "index = csv2index ( stations )\n",
    "clean = remove_outliers ( index, outliers2017 )"
   ]
  },
  {
   "cell_type": "code",
   "execution_count": null,
   "metadata": {},
   "outputs": [],
   "source": [
    "index_dict = pd.read_csv ( 'FilePathDictionary.csv', names = [ 'Index', 'Station' ], header = None, skiprows = 1 )\n",
    "index_dict = index_dict [ index_dict [ 'Index' ].isin ( clean ) ]"
   ]
  },
  {
   "cell_type": "code",
   "execution_count": null,
   "metadata": {},
   "outputs": [],
   "source": [
    "_stations = index_dict [ 'Station' ].tolist ( )\n",
    "stations_lat = [ ]\n",
    "stations_lon = [ ]\n",
    "print ( 'Stations with missing locations' )\n",
    "for i in _stations:\n",
    "    _loc = station_loc ( i )\n",
    "    if ( math.isnan ( _loc [ 0 ] ) or math.isnan ( _loc [ 1 ] ) ):\n",
    "        print ( i )\n",
    "    stations_lat.append ( _loc [ 0 ] )\n",
    "    stations_lon.append ( _loc [ 1 ] )"
   ]
  },
  {
   "cell_type": "code",
   "execution_count": null,
   "metadata": {},
   "outputs": [],
   "source": [
    "index_loc = pd.DataFrame ( { 'Index' : index_dict [ 'Index' ], 'Station' : _stations, 'Latitude' : stations_lat, 'Longitude' : stations_lon } )\n",
    "index_loc = index_loc.dropna ( )"
   ]
  },
  {
   "cell_type": "code",
   "execution_count": null,
   "metadata": {},
   "outputs": [],
   "source": [
    "params = [ ]\n",
    "for i in range ( len ( index_loc ) ):\n",
    "    _ref_lat = index_loc [ 'Latitude' ].iloc [ i ]\n",
    "    _ref_lon = index_loc [ 'Longitude' ].iloc [ i ]\n",
    "    _ref_rainfall = index_loc [ 'Mean(mm)' ].iloc [ i ]\n",
    "    _distances = [ ]\n",
    "    _rainfalldev = [ ]\n",
    "    for j in range ( len ( index_loc ) ):\n",
    "        _station_lat = index_loc [ 'Latitude' ].iloc [ j ]\n",
    "        _station_lon = index_loc [ 'Longitude' ].iloc [ j ]\n",
    "        _distance = distance ( _ref_lat, _ref_lon, _station_lat, _station_lon )\n",
    "        _distances.append ( _distance )\n",
    "        _station_rainfall = index_loc [ 'Mean(mm)' ].iloc [ j ]\n",
    "        _rainfalldev.append ( ( ( _ref_rainfall - _station_rainfall ) ** 2.0 ) / 2.0 )\n",
    "    _rainfalldev_mean = sum ( _rainfalldev ) / len ( _rainfalldev )\n",
    "    _popt, _pcov = curve_fit ( exponential_variogram, _distances, _rainfalldev, bounds = ( [ 0, 0 ], [ _rainfalldev_mean , np.inf ] ) )\n",
    "    params.append ( _popt )"
   ]
  },
  {
   "cell_type": "code",
   "execution_count": null,
   "metadata": {},
   "outputs": [],
   "source": [
    "c0 = [ i [ 0 ] for i in params ]\n",
    "a0 = [ i [ 1 ] for i in params ]"
   ]
  },
  {
   "cell_type": "code",
   "execution_count": null,
   "metadata": {},
   "outputs": [],
   "source": [
    "index_loc [ 'c0' ] = c0\n",
    "index_loc [ 'a0' ] = a0"
   ]
  },
  {
   "cell_type": "code",
   "execution_count": null,
   "metadata": {},
   "outputs": [],
   "source": [
    "index_loc.to_csv ( str ( year ) + 'StationInfluence.csv', index = None )"
   ]
  }
 ],
 "metadata": {
  "kernelspec": {
   "display_name": "Python 3",
   "language": "python",
   "name": "python3"
  },
  "language_info": {
   "codemirror_mode": {
    "name": "ipython",
    "version": 3
   },
   "file_extension": ".py",
   "mimetype": "text/x-python",
   "name": "python",
   "nbconvert_exporter": "python",
   "pygments_lexer": "ipython3",
   "version": "3.6.7"
  }
 },
 "nbformat": 4,
 "nbformat_minor": 2
}
