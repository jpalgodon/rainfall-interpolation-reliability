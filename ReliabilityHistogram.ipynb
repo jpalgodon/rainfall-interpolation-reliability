{
 "cells": [
  {
   "cell_type": "code",
   "execution_count": null,
   "metadata": {},
   "outputs": [],
   "source": [
    "import os\n",
    "os.environ['PROJ_LIB'] = '/usr/local/anaconda3/share/proj'\n",
    "from mpl_toolkits.basemap import Basemap\n",
    "import matplotlib.pyplot as plt\n",
    "import pandas as pd\n",
    "import numpy as np\n",
    "from matplotlib import colors\n",
    "import glob\n",
    "import math\n",
    "from scipy.optimize import curve_fit\n",
    "from pylab import flipud\n",
    "import seaborn as sns\n",
    "sns.set ( )"
   ]
  },
  {
   "cell_type": "code",
   "execution_count": null,
   "metadata": {},
   "outputs": [],
   "source": [
    "relcumx = [ 0.005 * i for i in range ( 201 ) ]"
   ]
  },
  {
   "cell_type": "code",
   "execution_count": null,
   "metadata": {},
   "outputs": [],
   "source": [
    "z1 = np.load ( '2013Attack100/2013-350-maxz.npy' )\n",
    "z1flat = z1.flatten ( )\n",
    "z1_y = np.zeros ( len ( relcumx ) )\n",
    "for i in range ( len ( relcumx ) ):\n",
    "    for j in z1flat:\n",
    "        if ( j <= relcumx [ i ] ):\n",
    "            z1_y [ i ] += 1"
   ]
  },
  {
   "cell_type": "code",
   "execution_count": null,
   "metadata": {},
   "outputs": [],
   "source": [
    "z2 = np.load ( '2014Attack100/2014-350-maxz.npy' )\n",
    "z2flat = z2.flatten ( )\n",
    "z2_y = np.zeros ( len ( relcumx ) )\n",
    "for i in range ( len ( relcumx ) ):\n",
    "    for j in z2flat:\n",
    "        if ( j <= relcumx [ i ] ):\n",
    "            z2_y [ i ] += 1"
   ]
  },
  {
   "cell_type": "code",
   "execution_count": null,
   "metadata": {},
   "outputs": [],
   "source": [
    "z3 = np.load ( '2015Attack100/2015-350-maxz.npy' )\n",
    "z3flat = z3.flatten ( )\n",
    "z3_y = np.zeros ( len ( relcumx ) )\n",
    "for i in range ( len ( relcumx ) ):\n",
    "    for j in z3flat:\n",
    "        if ( j <= relcumx [ i ] ):\n",
    "            z3_y [ i ] += 1"
   ]
  },
  {
   "cell_type": "code",
   "execution_count": null,
   "metadata": {},
   "outputs": [],
   "source": [
    "z4 = np.load ( '2016Attack100/2016-350-maxz.npy' )\n",
    "z4flat = z4.flatten ( )\n",
    "z4_y = np.zeros ( len ( relcumx ) )\n",
    "for i in range ( len ( relcumx ) ):\n",
    "    for j in z4flat:\n",
    "        if ( j <= relcumx [ i ] ):\n",
    "            z4_y [ i ] += 1"
   ]
  },
  {
   "cell_type": "code",
   "execution_count": null,
   "metadata": {},
   "outputs": [],
   "source": [
    "z5 = np.load ( '2017Attack100/2017-350-maxz.npy' )\n",
    "z5flat = z5.flatten ( )\n",
    "z5_y = np.zeros ( len ( relcumx ) )\n",
    "for i in range ( len ( relcumx ) ):\n",
    "    for j in z5flat:\n",
    "        if ( j <= relcumx [ i ] ):\n",
    "            z5_y [ i ] += 1"
   ]
  },
  {
   "cell_type": "code",
   "execution_count": null,
   "metadata": {},
   "outputs": [],
   "source": [
    "z6 = np.load ( '2018Attack100/2018-350-maxz.npy' )\n",
    "z6flat = z6.flatten ( )\n",
    "z6_y = np.zeros ( len ( relcumx ) )\n",
    "for i in range ( len ( relcumx ) ):\n",
    "    for j in z6flat:\n",
    "        if ( j <= relcumx [ i ] ):\n",
    "            z6_y [ i ] += 1"
   ]
  },
  {
   "cell_type": "code",
   "execution_count": null,
   "metadata": {},
   "outputs": [],
   "source": [
    "plt.plot ( relcumx, z1_y / 350 ** 2.0, zorder = 10, c = 'red', label = '2013' )\n",
    "plt.plot ( relcumx, z2_y / 350 ** 2.0, zorder = 10,c = 'orange',label = '2014' )\n",
    "plt.plot ( relcumx, z3_y / 350 ** 2.0, zorder = 10,c = 'yellow',label = '2015' )\n",
    "plt.plot ( relcumx, z4_y / 350 ** 2.0, zorder = 10,c = 'green',label = '2016' )\n",
    "plt.plot ( relcumx, z5_y / 350 ** 2.0, zorder = 10,c = 'blue',label = '2017' )\n",
    "plt.plot ( relcumx, z6_y / 350 ** 2.0, zorder = 10,c = 'k',label = '2018' )\n",
    "plt.plot ( [ 0.65, 0.65 ], [ 0, 1 ], '--' )\n",
    "plt.xlim ( 0, 1 )\n",
    "plt.ylim ( 0, 1 )\n",
    "plt.xticks ( [ 0.0, 0.1, 0.2, 0.3, 0.4, 0.5, 0.6, 0.7, 0.8, 0.9, 1 ] )\n",
    "plt.yticks ( [ 0.0, 0.1, 0.2, 0.3, 0.4, 0.5, 0.6, 0.7, 0.8, 0.9, 1 ] )\n",
    "plt.xlabel ( 'Reliability' )\n",
    "plt.ylabel ( 'Cumulative probability' )\n",
    "plt.title ( 'Interpolation reliability cumulative probability distribution' )\n",
    "plt.legend ( )\n",
    "plt.savefig ( 'InterpolationReliabilityCPD.png', dpi = 600, bbox = 'tight' )\n",
    "plt.show ( )"
   ]
  }
 ],
 "metadata": {
  "kernelspec": {
   "display_name": "Python 3",
   "language": "python",
   "name": "python3"
  },
  "language_info": {
   "codemirror_mode": {
    "name": "ipython",
    "version": 3
   },
   "file_extension": ".py",
   "mimetype": "text/x-python",
   "name": "python",
   "nbconvert_exporter": "python",
   "pygments_lexer": "ipython3",
   "version": "3.6.7"
  }
 },
 "nbformat": 4,
 "nbformat_minor": 2
}
