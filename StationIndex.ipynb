{
 "cells": [
  {
   "cell_type": "code",
   "execution_count": null,
   "metadata": {},
   "outputs": [],
   "source": [
    "import glob\n",
    "import pandas as pd"
   ]
  },
  {
   "cell_type": "code",
   "execution_count": null,
   "metadata": {},
   "outputs": [],
   "source": [
    "def aggregate_raw_csv ( ):\n",
    "    ARG1 = glob.glob ( \"ARG_1/ARG_1/*.csv\" ) #get a list of all .csv files in the folder\n",
    "    ARG2 = glob.glob ( \"ARG_2/ARG_2/*.csv\" )\n",
    "    AWS = glob.glob ( \"AWS/AWS/*.csv\" )\n",
    "    _csvfiles = ARG1 + ARG2 + AWS #combine all .csv files for rainfall only\n",
    "    _path = pd.DataFrame ( _csvfiles, columns = [ 'Path' ] )\n",
    "    _path.to_csv ( 'FilePathDictionary.csv' )\n",
    "    return ( _csvfiles )"
   ]
  },
  {
   "cell_type": "code",
   "execution_count": null,
   "metadata": {},
   "outputs": [],
   "source": [
    "path = aggregate_raw_csv ( )"
   ]
  }
 ],
 "metadata": {
  "kernelspec": {
   "display_name": "Python 3",
   "language": "python",
   "name": "python3"
  },
  "language_info": {
   "codemirror_mode": {
    "name": "ipython",
    "version": 3
   },
   "file_extension": ".py",
   "mimetype": "text/x-python",
   "name": "python",
   "nbconvert_exporter": "python",
   "pygments_lexer": "ipython3",
   "version": "3.6.7"
  }
 },
 "nbformat": 4,
 "nbformat_minor": 2
}
