{
 "cells": [
  {
   "cell_type": "code",
   "execution_count": null,
   "metadata": {},
   "outputs": [],
   "source": [
    "import os\n",
    "os.environ['PROJ_LIB'] = '/usr/local/anaconda3/share/proj'\n",
    "from mpl_toolkits.basemap import Basemap\n",
    "import matplotlib.pyplot as plt\n",
    "from matplotlib.colors import ListedColormap\n",
    "import pandas as pd\n",
    "import numpy as np\n",
    "from matplotlib import colors\n",
    "import glob\n",
    "import math\n",
    "from scipy.optimize import curve_fit\n",
    "from pylab import flipud\n",
    "import seaborn as sns\n",
    "sns.set ( )\n",
    "import random as rnd"
   ]
  },
  {
   "cell_type": "code",
   "execution_count": null,
   "metadata": {},
   "outputs": [],
   "source": [
    "def distance ( _lat1, _lon1, _lat2, _lon2 ):\n",
    "    _R = 6377.083\n",
    "    \n",
    "    _dLat = math.radians ( _lat2 - _lat1 )\n",
    "    _dLon = math.radians ( _lon2 - _lon1 )\n",
    "    _lat1 = math.radians ( _lat1 )\n",
    "    _lat2 = math.radians ( _lat2 )\n",
    " \n",
    "    _a = math.sin ( _dLat / 2.0 ) ** 2.0 + math.cos ( _lat1 ) * math.cos ( _lat2 ) * math.sin ( _dLon / 2.0 ) ** 2.0\n",
    "    _c = 2 * math.asin ( math.sqrt ( _a ) )\n",
    " \n",
    "    return ( abs ( _R * _c ) )"
   ]
  },
  {
   "cell_type": "code",
   "execution_count": null,
   "metadata": {},
   "outputs": [],
   "source": [
    "def influence_decay ( _distance, _influenceradius ):\n",
    "    _influence = np.exp ( -1.0 * ( _distance / _influenceradius ) )\n",
    "    return ( _influence )"
   ]
  },
  {
   "cell_type": "code",
   "execution_count": null,
   "metadata": {},
   "outputs": [],
   "source": [
    "def influence_map ( _data, _size, _show_prog = False ):\n",
    "    llcrnrlat = 5.5\n",
    "    urcrnrlat = 20.5\n",
    "    llcrnrlon = 115\n",
    "    urcrnrlon = 130\n",
    "    _z = np.zeros ( ( _size, _size ) )\n",
    "    _x = np.linspace ( llcrnrlon, urcrnrlon, _z.shape [ 1 ] )\n",
    "    _y = np.linspace ( llcrnrlat, urcrnrlat, _z.shape [ 0 ] )\n",
    "    _xx, _yy = np.meshgrid ( _x, _y )\n",
    "    _station_lat = _data [ 'Latitude' ].tolist ( )\n",
    "    _station_lon = _data [ 'Longitude' ].tolist ( )\n",
    "    _station_reliability = _data [ 'Reliability' ].tolist ( )\n",
    "    _station_influence = _data [ 'a0' ].tolist ( )\n",
    "    for i in range ( _z.shape [ 1 ] ):\n",
    "        if ( _show_prog ):\n",
    "            print ( i )\n",
    "        for j in range ( _z.shape [ 0 ] ):\n",
    "            _ref_lat = _y [ j ]\n",
    "            _ref_lon = _x [ i ]\n",
    "            _ref_reliability = [ ]\n",
    "            for k in range ( len ( _data ) ):\n",
    "                _distance = distance ( _ref_lat, _ref_lon, _station_lat [ k ], _station_lon [ k ] )\n",
    "                _ref_reliability.append ( _station_reliability [ k ] * influence_decay ( _distance, _station_influence [ k ] ) )\n",
    "            _z [ j ] [ i ] = max ( _ref_reliability )\n",
    "    return ( _xx, _yy, _z )"
   ]
  },
  {
   "cell_type": "code",
   "execution_count": null,
   "metadata": {},
   "outputs": [],
   "source": [
    "year = 2017\n",
    "estsize = 350\n",
    "data = pd.read_csv ( str ( year ) + 'StationInfluence.csv' )\n",
    "xx, yy, z = influence_map ( data, estsize )\n",
    "np.save ( str ( year ) + 'Attack100/' + str ( year ) + '-' + str ( estsize ) + '-x.npy', xx )\n",
    "np.save ( str ( year ) + 'Attack100/' + str ( year ) + '-' + str ( estsize ) + '-y.npy', yy )\n",
    "np.save ( str ( year ) + 'Attack100/' + str ( year ) + '-' + str ( estsize ) + '-maxz.npy', z )\n",
    "for _iijj in range ( 1, 20 ):\n",
    "    percent = 1.00 - ( 0.05 * _iijj )\n",
    "    removed_len = int ( len ( data ) * ( 1 - percent ) )\n",
    "    for _trials in range ( 10 ):\n",
    "        removed_index = rnd.sample ( range ( 0, len ( data ) ), removed_len)\n",
    "        data_dropped = data.drop ( data.index [ removed_index ] )\n",
    "        xx, yy, z = influence_map ( data_dropped, estsize )\n",
    "        np.save ( str ( year ) + 'Attack100/' + str ( year ) + '-' + str ( estsize ) + '-' + str ( _iijj ) + '-maxz-' + str ( _trials ) + '.npy', z )\n",
    "        print ( 'Progress at ' + str ( percent ) + ' at trial number ' + str ( _trials + 1 ) )\n",
    "    print ( len ( data ) )\n",
    "print ( 'DONE' )"
   ]
  }
 ],
 "metadata": {
  "kernelspec": {
   "display_name": "Python 3",
   "language": "python",
   "name": "python3"
  },
  "language_info": {
   "codemirror_mode": {
    "name": "ipython",
    "version": 3
   },
   "file_extension": ".py",
   "mimetype": "text/x-python",
   "name": "python",
   "nbconvert_exporter": "python",
   "pygments_lexer": "ipython3",
   "version": "3.6.7"
  }
 },
 "nbformat": 4,
 "nbformat_minor": 2
}
